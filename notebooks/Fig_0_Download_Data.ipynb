{
 "cells": [
  {
   "cell_type": "markdown",
   "id": "c9571183",
   "metadata": {},
   "source": [
    "# Download derived data\n",
    "\n",
    "This will save the data in the existing data directory in the base package directory"
   ]
  },
  {
   "cell_type": "code",
   "execution_count": null,
   "id": "5ce01aae",
   "metadata": {},
   "outputs": [],
   "source": [
    "import tarfile\n",
    "import urllib.request as urllib2\n",
    "\n",
    "tgz = urllib2.urlopen(\"https://svrimg.niu.edu/grl_data/grl_data_22.tar.gz\")\n",
    "data = tarfile.open(fileobj=tgz, mode='r:gz')\n",
    "data.extractall(path=\"../data\")"
   ]
  },
  {
   "cell_type": "markdown",
   "id": "20b043a9",
   "metadata": {},
   "source": [
    "# Boxplot data\n",
    "\n",
    "### These are the data used to generate the boxplot data\n",
    "### They are organized into three simulations\n",
    "\n",
    "```\n",
    "1. *_historical_*.csv (HIST)\n",
    "2. *_future_4p5_*.csv (FUTR 4.5)\n",
    "3. *_future_8p5_*.csv (FUTR 8.5)\n",
    "```\n",
    "\n",
    "### three dBZ thresholds\n",
    "\n",
    "```\n",
    "1. *_40dbz_*.csv (>= 40 dBZ)\n",
    "2. *_50dbz_*.csv (>= 50 dBZ)\n",
    "3. *_60dbz_*.csv (>= 60 dBZ)\n",
    "```\n",
    "\n",
    "### and four regions:\n",
    "\n",
    "```\n",
    "1. econus_*.csv (Eastern CONUS)\n",
    "2. ama_*.csv (Amarillo)\n",
    "3. mnp_*.csv (Minneapolis)\n",
    "4. mph_*.csv (Memphis)\n",
    "```\n"
   ]
  },
  {
   "cell_type": "markdown",
   "id": "31f11e61",
   "metadata": {},
   "source": [
    "# Reading econus data for 40 dBZ / historical\n",
    "\n",
    "### index column is the julian date\n",
    "### other columns represent 'simulation years'\n",
    "\n",
    "#### values are the mean count of 40 dBZ days in each region (max 1 for any given day)"
   ]
  },
  {
   "cell_type": "code",
   "execution_count": null,
   "id": "819435c5",
   "metadata": {},
   "outputs": [],
   "source": [
    "import pandas as pd\n",
    "\n",
    "df = pd.read_csv(\"../data/boxplot/econus_historical_40dbz_days.csv\", index_col=0, parse_dates=True)\n",
    "\n",
    "df"
   ]
  },
  {
   "cell_type": "markdown",
   "id": "284e8123",
   "metadata": {},
   "source": [
    "# Cumulative data\n",
    "\n",
    "### Exact same set up as boxplot data, but each year has a running count of days, except:\n",
    "\n",
    "### three dBZ thresholds\n",
    "\n",
    "```\n",
    "1. *_40_cumu_dbz_*.csv (>= 40 dBZ)\n",
    "2. *_50_cumu_dbz_*.csv (>= 50 dBZ)\n",
    "3. *_60_cumu_dbz_*.csv (>= 60 dBZ)\n",
    "```\n",
    "\n",
    "### and the value is the sum of mean regional grid days up until that particular day of the year"
   ]
  },
  {
   "cell_type": "code",
   "execution_count": null,
   "id": "271d3a39",
   "metadata": {},
   "outputs": [],
   "source": [
    "import pandas as pd\n",
    "\n",
    "df = pd.read_csv(\"../data/cumul/econus_historical_40_cumu_dbz_days.csv\", index_col=0, parse_dates=True)\n",
    "\n",
    "df"
   ]
  },
  {
   "cell_type": "markdown",
   "id": "d6b6e9e0",
   "metadata": {},
   "source": [
    "# Grid days\n",
    "\n",
    "### These are the netCDF files representing grid day counts for each season in each simulation year\n",
    "\n",
    "### They are organized into three simulations\n",
    "\n",
    "```\n",
    "1. HIST_*.nc (HIST)\n",
    "2. FUTR45_*.csv (FUTR 4.5)\n",
    "3. FUTR85_*.csv (FUTR 8.5)\n",
    "```\n",
    "\n",
    "### three dBZ thresholds (which are saved as variables in the netCDF file)\n",
    "\n",
    "```\n",
    "1. '40_dbz_count' (>= 40 dBZ)\n",
    "2. '50_dbz_count' (>= 50 dBZ)\n",
    "3. '60_dbz_count' (>= 60 dBZ)\n",
    "```\n",
    "\n",
    "### the time dimension represents the start of the valid season"
   ]
  },
  {
   "cell_type": "code",
   "execution_count": null,
   "id": "72ec2451",
   "metadata": {},
   "outputs": [],
   "source": [
    "import xarray as xr\n",
    "\n",
    "ds = xr.open_dataset(\"../data/days/HIST_2000_JJA_grid_days.nc\")\n",
    "\n",
    "ds"
   ]
  },
  {
   "cell_type": "markdown",
   "id": "7abc27bc",
   "metadata": {},
   "source": [
    "# Often we will want to read in several files associated with each simulation:\n",
    "\n",
    "#### Example: read in all HIST data using dask"
   ]
  },
  {
   "cell_type": "code",
   "execution_count": null,
   "id": "00cb4ab4",
   "metadata": {},
   "outputs": [],
   "source": [
    "ds = xr.open_mfdataset(\"../data/days/HIST_*_*_grid_days.nc\", combine='by_coords')\n",
    "\n",
    "ds"
   ]
  },
  {
   "cell_type": "markdown",
   "id": "fa4be76c",
   "metadata": {},
   "source": [
    "# We can then calculate seasonal statistics:"
   ]
  },
  {
   "cell_type": "code",
   "execution_count": null,
   "id": "caadbc05",
   "metadata": {},
   "outputs": [],
   "source": [
    "dseason = ds.groupby('time.season').mean('time')\n",
    "\n",
    "dseason"
   ]
  },
  {
   "cell_type": "markdown",
   "id": "484de612",
   "metadata": {},
   "source": [
    "# Geographic data\n",
    "\n",
    "### These data define the grids used for CAPE/CIN"
   ]
  },
  {
   "cell_type": "code",
   "execution_count": null,
   "id": "847fa93f",
   "metadata": {},
   "outputs": [],
   "source": [
    "import xarray as xr\n",
    "\n",
    "ds = xr.open_dataset(\"../data/geog/geog_sim.nc\")\n",
    "\n",
    "ds"
   ]
  },
  {
   "cell_type": "markdown",
   "id": "a407cfe8",
   "metadata": {},
   "source": [
    "# Seasonal mean MU CAPE / MU CIN\n",
    "\n",
    "### They are organized into three simulations\n",
    "\n",
    "```\n",
    "1. HIST_*.nc (HIST)\n",
    "2. FUTR45_*.nc (FUTR 4.5)\n",
    "3. FUTR85_*.nc (FUTR 8.5)\n",
    "```\n",
    "\n",
    "### Two variables are stored in each netCDF file\n",
    "\n",
    "```\n",
    "1. 'AFWA_CAPE_MU' (MU CAPE)\n",
    "2. 'AFWA_CIN_MU' (MU CIN)\n",
    "```\n",
    "\n",
    "### the season dimension represents data for each season"
   ]
  },
  {
   "cell_type": "code",
   "execution_count": null,
   "id": "498a1aa3",
   "metadata": {},
   "outputs": [],
   "source": [
    "ds = xr.open_dataset(\"../data/thermo/HIST_seasonal_MUCAPE_MUCIN.nc\")\n",
    "\n",
    "ds"
   ]
  }
 ],
 "metadata": {
  "kernelspec": {
   "display_name": "Python [conda env:test4] *",
   "language": "python",
   "name": "conda-env-test4-py"
  },
  "language_info": {
   "codemirror_mode": {
    "name": "ipython",
    "version": 3
   },
   "file_extension": ".py",
   "mimetype": "text/x-python",
   "name": "python",
   "nbconvert_exporter": "python",
   "pygments_lexer": "ipython3",
   "version": "3.9.10"
  }
 },
 "nbformat": 4,
 "nbformat_minor": 5
}
